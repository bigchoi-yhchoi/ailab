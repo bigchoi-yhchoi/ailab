{
 "cells": [
  {
   "cell_type": "code",
   "execution_count": null,
   "metadata": {},
   "outputs": [],
   "source": [
    "pip install langchain_community langchain_chroma pymupdf"
   ]
  },
  {
   "cell_type": "code",
   "execution_count": 83,
   "metadata": {},
   "outputs": [],
   "source": [
    "from langchain_openai import ChatOpenAI\n",
    "from dotenv import load_dotenv\n",
    "from langchain_core.prompts import ChatPromptTemplate\n",
    "from langchain_core.output_parsers import StrOutputParser\n",
    "\n",
    "load_dotenv()\n",
    "\n",
    "llm = ChatOpenAI(model=\"gpt-4o-mini\", temperature=0)\n",
    "prompt = ChatPromptTemplate.from_messages([\n",
    "    (\"system\", \"당신은 질문에 대한 답변을 제공하는 도우미입니다. 모든 답변은 한국어로 친절하게 대답하세요.\"),\n",
    "    (\"user\", \"{input}\"),\n",
    "])\n",
    "\n",
    "chain = prompt | llm | StrOutputParser()\n"
   ]
  },
  {
   "cell_type": "code",
   "execution_count": null,
   "metadata": {},
   "outputs": [],
   "source": [
    "chain.invoke({ \"input\"  : \"Stock Buyback의 정의와 예시에 대해 알려줘\" })"
   ]
  },
  {
   "cell_type": "markdown",
   "metadata": {},
   "source": [
    "# Document Loader\n",
    "[https://python.langchain.com/api_reference/community/document_loaders.html#]\n",
    "\n",
    "1. CharacterTextSplitter\n",
    "- 분할 기준: 지정된 단일 문자(예: \\n, 공백 등)를 기준으로 텍스트를 분할합니다.​\n",
    "- 특징:\n",
    "단순한 문자 기반 분할 방식으로, 구조화되지 않은 텍스트에 적합합니다.​\n",
    "문맥이나 의미를 고려하지 않기 때문에, 문장이나 단어가 중간에 잘릴 수 있습니다.\n",
    "\n",
    "2. RecursiveCharacterTextSplitter\n",
    "- 분할 기준: 여러 구분자(기본값: [\"\\n\\n\", \"\\n\", \" \", \"\"])를 우선순위에 따라 재귀적으로 적용하여 텍스트를 분할합니다.​\n",
    "- 특징:\n",
    "문단 → 문장 → 단어 순으로 분할을 시도하여, 텍스트의 의미와 문맥을 최대한 보존합니다.​\n",
    "구조화된 텍스트나 자연어 처리에서 의미 단위를 유지하려는 경우에 적합합니다.\n",
    "\n",
    "3. TokenTextSplitter\n",
    "- 분할 기준: 토큰 수를 기준으로 텍스트를 분할합니다.​\n",
    "- 특징: LLM의 토큰 제한을 고려하여 텍스트를 분할하므로, 모델 입력에 최적화된 형태로 텍스트를 준비할 수 있습니다.​ 언어별 토크나이저를 활용하여 정확한 토큰 단위 분할이 가능합니다\n"
   ]
  },
  {
   "cell_type": "code",
   "execution_count": null,
   "metadata": {},
   "outputs": [],
   "source": [
    "with open(\"data/finance-keywords.txt\", \"r\", encoding=\"utf-8\") as f:\n",
    "    file = f.read()\n",
    "    print(len(file))"
   ]
  },
  {
   "cell_type": "code",
   "execution_count": null,
   "metadata": {},
   "outputs": [],
   "source": [
    "from langchain_community.document_loaders import TextLoader\n",
    "from langchain.text_splitter import RecursiveCharacterTextSplitter\n",
    "\n",
    "loader = TextLoader(\"data/finance-keywords.txt\", encoding=\"utf-8\")\n",
    "documents = loader.load()\n",
    "\n",
    "text_splitter1 = RecursiveCharacterTextSplitter(chunk_size=500, chunk_overlap=100)\n",
    "chunks = loader.load_and_split(text_splitter1)\n",
    "\n",
    "len(chunks)"
   ]
  },
  {
   "cell_type": "code",
   "execution_count": null,
   "metadata": {},
   "outputs": [],
   "source": [
    "chunks"
   ]
  },
  {
   "cell_type": "code",
   "execution_count": null,
   "metadata": {},
   "outputs": [],
   "source": [
    "chunks[0].metadata"
   ]
  },
  {
   "cell_type": "code",
   "execution_count": null,
   "metadata": {},
   "outputs": [],
   "source": [
    "chunks[0].page_content"
   ]
  },
  {
   "cell_type": "markdown",
   "metadata": {},
   "source": [
    "# VectorStore 생성\n",
    "\n",
    "## Chroma\n",
    " - Langchain Chroma 문서[https://python.langchain.com/v0.2/docs/integrations/vectorstores/chroma/]\n",
    " - Langchain VectorStore 문서[https://python.langchain.com/v0.2/docs/integrations/vectorstores/]\n",
    "\n",
    "### 벡터 저장소 생성 (from_documents)\n",
    "from_documents 클래스 메서드는 문서 리스트로부터 벡터 저장소를 생성합니다.\n",
    "\n",
    "### 매개변수\n",
    "\n",
    "- documents (List[Document]): 벡터 저장소에 추가할 문서 리스트\n",
    "- embedding (Optional[Embeddings]): 임베딩 함수. 기본값은 None\n",
    "- ids (Optional[List[str]]): 문서 ID 리스트. 기본값은 None\n",
    "- collection_name (str): 생성할 컬렉션 이름.\n",
    "- persist_directory (Optional[str]): 컬렉션을 저장할 디렉토리. 기본값은 None\n",
    "- client_settings (Optional[chromadb.config.Settings]): Chroma 클라이언트 설정\n",
    "- client (Optional[chromadb.Client]): Chroma 클라이언트 인스턴스\n",
    "- collection_metadata (Optional[Dict]): 컬렉션 구성 정보. 기본값은 None\n",
    "\n",
    "### 참고\n",
    "\n",
    "- persist_directory가 지정되면 컬렉션이 해당 디렉토리에 저장됩니다. 지정되지 않으면 데이터는 메모리에 임시로 저장됩니다.\n",
    "- 이 메서드는 내부적으로 from_texts 메서드를 호출하여 벡터 저장소를 생성합니다.\n",
    "- 문서의 page_content는 텍스트로, metadata는 메타데이터로 사용됩니다.\n",
    "\n",
    "### 반환값\n",
    "- Chroma: 생성된 Chroma 벡터 저장소 인스턴스\n",
    "\n",
    "\n",
    "생성시 documents 매개변수로 Document 리스트를 전달합니다. embedding 에 활용할 임베딩 모델을 지정하며, namespace 의 역할을 하는 collection_name 을 지정할 수 있습니다.\n"
   ]
  },
  {
   "cell_type": "code",
   "execution_count": 24,
   "metadata": {},
   "outputs": [],
   "source": [
    "from langchain_chroma import Chroma\n",
    "from langchain_openai import OpenAIEmbeddings\n",
    "embeddings = OpenAIEmbeddings()\n",
    "embeded = embeddings.embed_query(\"비씨카드1\")\n"
   ]
  },
  {
   "cell_type": "code",
   "execution_count": null,
   "metadata": {},
   "outputs": [],
   "source": [
    "len(embeded)"
   ]
  },
  {
   "cell_type": "code",
   "execution_count": 63,
   "metadata": {},
   "outputs": [],
   "source": [
    "\n",
    "DB_PATH = \"./chroma_db\"\n",
    "db = Chroma.from_documents(\n",
    "    documents=chunks,\n",
    "    embedding=OpenAIEmbeddings(),\n",
    "    persist_directory=DB_PATH,\n",
    "    collection_name=\"finance-keywords\",\n",
    ")\n"
   ]
  },
  {
   "cell_type": "code",
   "execution_count": 64,
   "metadata": {},
   "outputs": [],
   "source": [
    "doc_results = db.similarity_search(\n",
    "    query=\"Stock Buyback의 정의와 예시에 대해 알려줘\",\n",
    "    k=3,\n",
    "    filter={'source':'data/finance-keywords.txt'}\n",
    ")"
   ]
  },
  {
   "cell_type": "markdown",
   "metadata": {},
   "source": [
    "```python\n",
    "    db.get(where={\"source\":\"data/finance-keywords.txt\"})\n",
    "    db.get(['1','2'])\n",
    "    db.delete(ids=[\"1\"])\n",
    "    db.reset_collection()\n",
    "```"
   ]
  },
  {
   "cell_type": "markdown",
   "metadata": {},
   "source": [
    "\n"
   ]
  },
  {
   "cell_type": "code",
   "execution_count": null,
   "metadata": {},
   "outputs": [],
   "source": [
    "db.get(limit=4, where={\"source\":\"data/finance-keywords.txt\"})"
   ]
  },
  {
   "cell_type": "code",
   "execution_count": null,
   "metadata": {},
   "outputs": [],
   "source": [
    "retriever = db.as_retriever(\n",
    "    search_type=\"similarity_score_threshold\",\n",
    "    search_kwargs={\n",
    "        \"k\" : 2,\n",
    "        \"score_threshold\" : 0.7,\n",
    "    }\n",
    ")\n",
    "docs = retriever.invoke(\"Stock Buyback\")\n",
    "\n",
    "for doc in docs :\n",
    "    print(doc.page_content)\n",
    "    print(\"=\" * 50)"
   ]
  },
  {
   "cell_type": "code",
   "execution_count": null,
   "metadata": {},
   "outputs": [],
   "source": [
    "config = {\n",
    "    \"configurable\" : {\n",
    "        \"search_type\" : \"similarity_score_threshold\" ,\n",
    "        \"search_kwargs\" : {\n",
    "            \"score_threshold\" : 0.7,\n",
    "        }\n",
    "    }\n",
    "}\n",
    "docs = retriever.invoke(\"Stock Buyback에 대한 정의와 예시를 알려주세요\", config=config)\n",
    "for doc in docs : \n",
    "    print(doc)\n",
    "    print(\"=\" * 50)"
   ]
  },
  {
   "cell_type": "code",
   "execution_count": 19,
   "metadata": {},
   "outputs": [],
   "source": [
    "def format_docs(docs) :\n",
    "    return \"\\n\\n\".join([f\"문서내용:{doc.page_content}, 출처:{doc.metadata['source']}\" for doc in docs])"
   ]
  },
  {
   "cell_type": "code",
   "execution_count": 84,
   "metadata": {},
   "outputs": [],
   "source": [
    "from langchain_core.runnables import RunnablePassthrough\n",
    "prompt = ChatPromptTemplate.from_messages([\n",
    "    ('system', '당신은 친절한 AI 어시스턴트 입니다. 주어진 문서의 내용에 따라 충실히 답변하세요.'),\n",
    "    ('system', '주어진 문서 : {documents}'),\n",
    "    ('user', '질문 : {question}')\n",
    "])\n",
    "\n",
    "chain = ({ 'documents' : retriever | format_docs , \"question\" : RunnablePassthrough() }\n",
    "    | prompt \n",
    "    | llm\n",
    "    | StrOutputParser()\n",
    ")\n"
   ]
  },
  {
   "cell_type": "code",
   "execution_count": null,
   "metadata": {},
   "outputs": [],
   "source": [
    "chain.invoke(\"Stock Buyback에 대한 정의와 예시를 알려주세요\")"
   ]
  },
  {
   "cell_type": "code",
   "execution_count": null,
   "metadata": {},
   "outputs": [],
   "source": [
    "chain.invoke(\"비씨카드의 2024년에 개최된 이사회는 몇번이고, 이사의 참석률은 몇퍼센트 인가요?\")"
   ]
  },
  {
   "cell_type": "code",
   "execution_count": 21,
   "metadata": {},
   "outputs": [],
   "source": [
    "from langchain_community.document_loaders import PyMuPDFLoader\n",
    "from langchain_chroma import Chroma\n",
    "from langchain_core.runnables import RunnablePassthrough\n",
    "from langchain_openai import ChatOpenAI, OpenAIEmbeddings\n",
    "from langchain_core.prompts import ChatPromptTemplate\n",
    "from langchain.text_splitter import RecursiveCharacterTextSplitter\n",
    "from langchain_core.output_parsers import StrOutputParser\n",
    "\n",
    "# Step1 : 문서 로드\n",
    "loader = PyMuPDFLoader('data/bccard.pdf')\n",
    "docs = loader.load()\n",
    "\n",
    "# Step2 : 문서 분할\n",
    "text_splitter = RecursiveCharacterTextSplitter(chunk_size=500, chunk_overlap=50)\n",
    "split_documents = text_splitter.split_documents(docs)"
   ]
  },
  {
   "cell_type": "code",
   "execution_count": null,
   "metadata": {},
   "outputs": [],
   "source": [
    "print(len(split_documents))\n",
    "print(\"=\" *50)\n",
    "print(split_documents[10].page_content)\n",
    "print(\"=\" *50)\n",
    "print(split_documents[10].metadata)"
   ]
  },
  {
   "cell_type": "code",
   "execution_count": 31,
   "metadata": {},
   "outputs": [],
   "source": [
    "def format_docs(docs) :\n",
    "    return \"\\n\\n\".join([f\"문서내용:{doc.page_content}, 출처:{doc.metadata['source']}/{doc.metadata['page']}\" for doc in docs])"
   ]
  },
  {
   "cell_type": "code",
   "execution_count": null,
   "metadata": {},
   "outputs": [],
   "source": [
    "# Step3 : 임베딩 & VectorDB 생성\n",
    "vectorstore = Chroma.from_documents(documents=split_documents, \n",
    "                                    embedding=OpenAIEmbeddings())\n"
   ]
  },
  {
   "cell_type": "code",
   "execution_count": 32,
   "metadata": {},
   "outputs": [],
   "source": [
    "# Step4 : 검색기(Retriever) 생성\n",
    "retriever = vectorstore.as_retriever()\n",
    "\n",
    "# Step5 : 프롬프트 생성\n",
    "prompt = ChatPromptTemplate.from_messages([\n",
    "    ('system', '당신은 친절한 AI 어시스턴트 입니다. 주어진 문서의 내용에 따라 충실히 답변하세요.'),\n",
    "    ('system', '답변 시 출처 정보도 알려주세요. Example) 답변 (출처:~~)'),\n",
    "    ('system', '주어진 문서 : {documents}'),\n",
    "    ('user', '질문 : {question}')\n",
    "])\n",
    "\n",
    "# Step6 : LLM 및 Chain 생성\n",
    "\n",
    "llm = ChatOpenAI(model=\"gpt-4o-mini\")\n",
    "\n",
    "chain = ({ 'documents' : retriever | format_docs , \"question\" : RunnablePassthrough() }\n",
    "    | prompt \n",
    "    | llm\n",
    "    | StrOutputParser()\n",
    ")\n"
   ]
  },
  {
   "cell_type": "code",
   "execution_count": null,
   "metadata": {},
   "outputs": [],
   "source": [
    "chain.invoke(\"비씨카드의 2024년에 개최된 이사회는 몇번인가요?\")"
   ]
  },
  {
   "cell_type": "code",
   "execution_count": null,
   "metadata": {},
   "outputs": [],
   "source": []
  },
  {
   "cell_type": "code",
   "execution_count": null,
   "metadata": {},
   "outputs": [],
   "source": []
  }
 ],
 "metadata": {
  "kernelspec": {
   "display_name": "venv",
   "language": "python",
   "name": "python3"
  },
  "language_info": {
   "codemirror_mode": {
    "name": "ipython",
    "version": 3
   },
   "file_extension": ".py",
   "mimetype": "text/x-python",
   "name": "python",
   "nbconvert_exporter": "python",
   "pygments_lexer": "ipython3",
   "version": "3.11.9"
  }
 },
 "nbformat": 4,
 "nbformat_minor": 2
}
